{
  "nbformat": 4,
  "nbformat_minor": 0,
  "metadata": {
    "colab": {
      "name": "TF2.0 Linear Classification.ipynb",
      "provenance": [],
      "authorship_tag": "ABX9TyPd6bAKO1ArBEyDnWO2fgFe",
      "include_colab_link": true
    },
    "kernelspec": {
      "name": "python3",
      "display_name": "Python 3"
    }
  },
  "cells": [
    {
      "cell_type": "markdown",
      "metadata": {
        "id": "view-in-github",
        "colab_type": "text"
      },
      "source": [
        "<a href=\"https://colab.research.google.com/github/prasad4fun/TF-2.0/blob/master/Machine%20Learning%20Basics/TF2_0_Linear_Classification.ipynb\" target=\"_parent\"><img src=\"https://colab.research.google.com/assets/colab-badge.svg\" alt=\"Open In Colab\"/></a>"
      ]
    },
    {
      "cell_type": "code",
      "metadata": {
        "id": "p3eTW9qm6lwP",
        "colab_type": "code",
        "colab": {}
      },
      "source": [
        "try:\n",
        "  %tensorflow_version 2.x\n",
        "except Exception:\n",
        "  pass"
      ],
      "execution_count": 0,
      "outputs": []
    },
    {
      "cell_type": "code",
      "metadata": {
        "id": "fuOGxg6V627Q",
        "colab_type": "code",
        "colab": {
          "base_uri": "https://localhost:8080/",
          "height": 35
        },
        "outputId": "762dd9ed-704d-42b7-811a-b6ee452caac9"
      },
      "source": [
        "import tensorflow as tf\n",
        "tf.__version__"
      ],
      "execution_count": 2,
      "outputs": [
        {
          "output_type": "execute_result",
          "data": {
            "text/plain": [
              "'2.2.0-rc3'"
            ]
          },
          "metadata": {
            "tags": []
          },
          "execution_count": 2
        }
      ]
    },
    {
      "cell_type": "code",
      "metadata": {
        "id": "yokYApVd9rkG",
        "colab_type": "code",
        "colab": {}
      },
      "source": [
        "from sklearn.datasets import load_breast_cancer"
      ],
      "execution_count": 0,
      "outputs": []
    },
    {
      "cell_type": "code",
      "metadata": {
        "id": "YNKmdpC79_Wi",
        "colab_type": "code",
        "colab": {}
      },
      "source": [
        "data = load_breast_cancer()"
      ],
      "execution_count": 0,
      "outputs": []
    },
    {
      "cell_type": "code",
      "metadata": {
        "id": "0lMg6Won-FXA",
        "colab_type": "code",
        "colab": {
          "base_uri": "https://localhost:8080/",
          "height": 35
        },
        "outputId": "be7504ce-ef1a-4272-f795-ff9dc46edf41"
      },
      "source": [
        "type(data)"
      ],
      "execution_count": 6,
      "outputs": [
        {
          "output_type": "execute_result",
          "data": {
            "text/plain": [
              "sklearn.utils.Bunch"
            ]
          },
          "metadata": {
            "tags": []
          },
          "execution_count": 6
        }
      ]
    },
    {
      "cell_type": "code",
      "metadata": {
        "id": "PKaw9MvK-H2K",
        "colab_type": "code",
        "colab": {
          "base_uri": "https://localhost:8080/",
          "height": 35
        },
        "outputId": "8bc7f301-e2d5-49af-c468-bca4648e15ea"
      },
      "source": [
        "data.keys()"
      ],
      "execution_count": 7,
      "outputs": [
        {
          "output_type": "execute_result",
          "data": {
            "text/plain": [
              "dict_keys(['data', 'target', 'target_names', 'DESCR', 'feature_names', 'filename'])"
            ]
          },
          "metadata": {
            "tags": []
          },
          "execution_count": 7
        }
      ]
    },
    {
      "cell_type": "code",
      "metadata": {
        "id": "QaK07H4U_zN0",
        "colab_type": "code",
        "colab": {
          "base_uri": "https://localhost:8080/",
          "height": 35
        },
        "outputId": "4fd6d467-7be4-4d91-db67-0a876ae6f253"
      },
      "source": [
        "data.data.shape"
      ],
      "execution_count": 8,
      "outputs": [
        {
          "output_type": "execute_result",
          "data": {
            "text/plain": [
              "(569, 30)"
            ]
          },
          "metadata": {
            "tags": []
          },
          "execution_count": 8
        }
      ]
    },
    {
      "cell_type": "code",
      "metadata": {
        "id": "amoCOvxSAL4b",
        "colab_type": "code",
        "colab": {
          "base_uri": "https://localhost:8080/",
          "height": 479
        },
        "outputId": "e5af0ad1-e0a5-41cd-b335-4c08f671166d"
      },
      "source": [
        "data.target"
      ],
      "execution_count": 9,
      "outputs": [
        {
          "output_type": "execute_result",
          "data": {
            "text/plain": [
              "array([0, 0, 0, 0, 0, 0, 0, 0, 0, 0, 0, 0, 0, 0, 0, 0, 0, 0, 0, 1, 1, 1,\n",
              "       0, 0, 0, 0, 0, 0, 0, 0, 0, 0, 0, 0, 0, 0, 0, 1, 0, 0, 0, 0, 0, 0,\n",
              "       0, 0, 1, 0, 1, 1, 1, 1, 1, 0, 0, 1, 0, 0, 1, 1, 1, 1, 0, 1, 0, 0,\n",
              "       1, 1, 1, 1, 0, 1, 0, 0, 1, 0, 1, 0, 0, 1, 1, 1, 0, 0, 1, 0, 0, 0,\n",
              "       1, 1, 1, 0, 1, 1, 0, 0, 1, 1, 1, 0, 0, 1, 1, 1, 1, 0, 1, 1, 0, 1,\n",
              "       1, 1, 1, 1, 1, 1, 1, 0, 0, 0, 1, 0, 0, 1, 1, 1, 0, 0, 1, 0, 1, 0,\n",
              "       0, 1, 0, 0, 1, 1, 0, 1, 1, 0, 1, 1, 1, 1, 0, 1, 1, 1, 1, 1, 1, 1,\n",
              "       1, 1, 0, 1, 1, 1, 1, 0, 0, 1, 0, 1, 1, 0, 0, 1, 1, 0, 0, 1, 1, 1,\n",
              "       1, 0, 1, 1, 0, 0, 0, 1, 0, 1, 0, 1, 1, 1, 0, 1, 1, 0, 0, 1, 0, 0,\n",
              "       0, 0, 1, 0, 0, 0, 1, 0, 1, 0, 1, 1, 0, 1, 0, 0, 0, 0, 1, 1, 0, 0,\n",
              "       1, 1, 1, 0, 1, 1, 1, 1, 1, 0, 0, 1, 1, 0, 1, 1, 0, 0, 1, 0, 1, 1,\n",
              "       1, 1, 0, 1, 1, 1, 1, 1, 0, 1, 0, 0, 0, 0, 0, 0, 0, 0, 0, 0, 0, 0,\n",
              "       0, 0, 1, 1, 1, 1, 1, 1, 0, 1, 0, 1, 1, 0, 1, 1, 0, 1, 0, 0, 1, 1,\n",
              "       1, 1, 1, 1, 1, 1, 1, 1, 1, 1, 1, 0, 1, 1, 0, 1, 0, 1, 1, 1, 1, 1,\n",
              "       1, 1, 1, 1, 1, 1, 1, 1, 1, 0, 1, 1, 1, 0, 1, 0, 1, 1, 1, 1, 0, 0,\n",
              "       0, 1, 1, 1, 1, 0, 1, 0, 1, 0, 1, 1, 1, 0, 1, 1, 1, 1, 1, 1, 1, 0,\n",
              "       0, 0, 1, 1, 1, 1, 1, 1, 1, 1, 1, 1, 1, 0, 0, 1, 0, 0, 0, 1, 0, 0,\n",
              "       1, 1, 1, 1, 1, 0, 1, 1, 1, 1, 1, 0, 1, 1, 1, 0, 1, 1, 0, 0, 1, 1,\n",
              "       1, 1, 1, 1, 0, 1, 1, 1, 1, 1, 1, 1, 0, 1, 1, 1, 1, 1, 0, 1, 1, 0,\n",
              "       1, 1, 1, 1, 1, 1, 1, 1, 1, 1, 1, 1, 0, 1, 0, 0, 1, 0, 1, 1, 1, 1,\n",
              "       1, 0, 1, 1, 0, 1, 0, 1, 1, 0, 1, 0, 1, 1, 1, 1, 1, 1, 1, 1, 0, 0,\n",
              "       1, 1, 1, 1, 1, 1, 0, 1, 1, 1, 1, 1, 1, 1, 1, 1, 1, 0, 1, 1, 1, 1,\n",
              "       1, 1, 1, 0, 1, 0, 1, 1, 0, 1, 1, 1, 1, 1, 0, 0, 1, 0, 1, 0, 1, 1,\n",
              "       1, 1, 1, 0, 1, 1, 0, 1, 0, 1, 0, 0, 1, 1, 1, 0, 1, 1, 1, 1, 1, 1,\n",
              "       1, 1, 1, 1, 1, 0, 1, 0, 0, 1, 1, 1, 1, 1, 1, 1, 1, 1, 1, 1, 1, 1,\n",
              "       1, 1, 1, 1, 1, 1, 1, 1, 1, 1, 1, 1, 0, 0, 0, 0, 0, 0, 1])"
            ]
          },
          "metadata": {
            "tags": []
          },
          "execution_count": 9
        }
      ]
    },
    {
      "cell_type": "code",
      "metadata": {
        "id": "ORpEmPLzAQQT",
        "colab_type": "code",
        "colab": {
          "base_uri": "https://localhost:8080/",
          "height": 35
        },
        "outputId": "f5fe96a3-bf67-426b-9dbc-3225fca4f29c"
      },
      "source": [
        "data.target_names"
      ],
      "execution_count": 10,
      "outputs": [
        {
          "output_type": "execute_result",
          "data": {
            "text/plain": [
              "array(['malignant', 'benign'], dtype='<U9')"
            ]
          },
          "metadata": {
            "tags": []
          },
          "execution_count": 10
        }
      ]
    },
    {
      "cell_type": "code",
      "metadata": {
        "id": "TkOb-JPUAjvP",
        "colab_type": "code",
        "colab": {
          "base_uri": "https://localhost:8080/",
          "height": 35
        },
        "outputId": "9d2936ff-ecd3-43a0-8327-38880d8c7889"
      },
      "source": [
        "data.target.shape"
      ],
      "execution_count": 11,
      "outputs": [
        {
          "output_type": "execute_result",
          "data": {
            "text/plain": [
              "(569,)"
            ]
          },
          "metadata": {
            "tags": []
          },
          "execution_count": 11
        }
      ]
    },
    {
      "cell_type": "code",
      "metadata": {
        "id": "iHxsbXeeAnqw",
        "colab_type": "code",
        "colab": {
          "base_uri": "https://localhost:8080/",
          "height": 195
        },
        "outputId": "b49b933d-65f7-4a63-f007-2ac17f28d708"
      },
      "source": [
        "data.feature_names"
      ],
      "execution_count": 12,
      "outputs": [
        {
          "output_type": "execute_result",
          "data": {
            "text/plain": [
              "array(['mean radius', 'mean texture', 'mean perimeter', 'mean area',\n",
              "       'mean smoothness', 'mean compactness', 'mean concavity',\n",
              "       'mean concave points', 'mean symmetry', 'mean fractal dimension',\n",
              "       'radius error', 'texture error', 'perimeter error', 'area error',\n",
              "       'smoothness error', 'compactness error', 'concavity error',\n",
              "       'concave points error', 'symmetry error',\n",
              "       'fractal dimension error', 'worst radius', 'worst texture',\n",
              "       'worst perimeter', 'worst area', 'worst smoothness',\n",
              "       'worst compactness', 'worst concavity', 'worst concave points',\n",
              "       'worst symmetry', 'worst fractal dimension'], dtype='<U23')"
            ]
          },
          "metadata": {
            "tags": []
          },
          "execution_count": 12
        }
      ]
    },
    {
      "cell_type": "code",
      "metadata": {
        "id": "P3mxW2QgB_M1",
        "colab_type": "code",
        "colab": {}
      },
      "source": [
        "from sklearn.model_selection import train_test_split\n",
        "\n",
        "X_train, X_test, y_train, y_test = train_test_split(data.data, data.target, test_size=0.33)\n",
        "N, D = X_train.shape"
      ],
      "execution_count": 0,
      "outputs": []
    },
    {
      "cell_type": "code",
      "metadata": {
        "id": "RDe5wmSwHaLH",
        "colab_type": "code",
        "colab": {}
      },
      "source": [
        "from sklearn.preprocessing import StandardScaler\n",
        "\n",
        "scaler = StandardScaler()\n",
        "X_train = scaler.fit_transform(X_train)\n",
        "X_test = scaler.transform(X_test)"
      ],
      "execution_count": 0,
      "outputs": []
    },
    {
      "cell_type": "code",
      "metadata": {
        "id": "9ciabqgoJIiH",
        "colab_type": "code",
        "colab": {
          "base_uri": "https://localhost:8080/",
          "height": 1000
        },
        "outputId": "12d26657-91bf-4baf-bd32-bd8d3978e1ac"
      },
      "source": [
        "model = tf.keras.models.Sequential([\n",
        "  tf.keras.layers.Input(shape=(D,)),\n",
        "  tf.keras.layers.Dense(1, activation='sigmoid')\n",
        "])\n",
        "\n",
        "# Alternatively, you can do:\n",
        "# model = tf.keras.models.Sequential()\n",
        "# model.add(tf.keras.layers.Dense(1, input_shape=(D,), activation='sigmoid'))\n",
        "\n",
        "model.compile(optimizer='adam',\n",
        "              loss='binary_crossentropy',\n",
        "              metrics=['accuracy'])\n",
        "\n",
        "r = model.fit(X_train, y_train, validation_data=(X_test, y_test), epochs=100)\n",
        "\n",
        "print(\"Train Score\", model.evaluate(X_train, y_train))\n",
        "print(\"Test score:\", model.evaluate(X_test, y_test))"
      ],
      "execution_count": 17,
      "outputs": [
        {
          "output_type": "stream",
          "text": [
            "Epoch 1/100\n",
            "12/12 [==============================] - 0s 9ms/step - loss: 0.6236 - accuracy: 0.6588 - val_loss: 0.5808 - val_accuracy: 0.6915\n",
            "Epoch 2/100\n",
            "12/12 [==============================] - 0s 4ms/step - loss: 0.5573 - accuracy: 0.7402 - val_loss: 0.5225 - val_accuracy: 0.7926\n",
            "Epoch 3/100\n",
            "12/12 [==============================] - 0s 4ms/step - loss: 0.5024 - accuracy: 0.7979 - val_loss: 0.4730 - val_accuracy: 0.8245\n",
            "Epoch 4/100\n",
            "12/12 [==============================] - 0s 4ms/step - loss: 0.4543 - accuracy: 0.8530 - val_loss: 0.4313 - val_accuracy: 0.8670\n",
            "Epoch 5/100\n",
            "12/12 [==============================] - 0s 5ms/step - loss: 0.4148 - accuracy: 0.8661 - val_loss: 0.3963 - val_accuracy: 0.8936\n",
            "Epoch 6/100\n",
            "12/12 [==============================] - 0s 4ms/step - loss: 0.3823 - accuracy: 0.8766 - val_loss: 0.3663 - val_accuracy: 0.9096\n",
            "Epoch 7/100\n",
            "12/12 [==============================] - 0s 4ms/step - loss: 0.3542 - accuracy: 0.8924 - val_loss: 0.3412 - val_accuracy: 0.9149\n",
            "Epoch 8/100\n",
            "12/12 [==============================] - 0s 4ms/step - loss: 0.3312 - accuracy: 0.9029 - val_loss: 0.3195 - val_accuracy: 0.9309\n",
            "Epoch 9/100\n",
            "12/12 [==============================] - 0s 5ms/step - loss: 0.3097 - accuracy: 0.9186 - val_loss: 0.3018 - val_accuracy: 0.9362\n",
            "Epoch 10/100\n",
            "12/12 [==============================] - 0s 4ms/step - loss: 0.2931 - accuracy: 0.9213 - val_loss: 0.2864 - val_accuracy: 0.9309\n",
            "Epoch 11/100\n",
            "12/12 [==============================] - 0s 4ms/step - loss: 0.2782 - accuracy: 0.9265 - val_loss: 0.2728 - val_accuracy: 0.9415\n",
            "Epoch 12/100\n",
            "12/12 [==============================] - 0s 4ms/step - loss: 0.2652 - accuracy: 0.9318 - val_loss: 0.2611 - val_accuracy: 0.9521\n",
            "Epoch 13/100\n",
            "12/12 [==============================] - 0s 4ms/step - loss: 0.2542 - accuracy: 0.9318 - val_loss: 0.2505 - val_accuracy: 0.9521\n",
            "Epoch 14/100\n",
            "12/12 [==============================] - 0s 4ms/step - loss: 0.2437 - accuracy: 0.9370 - val_loss: 0.2414 - val_accuracy: 0.9521\n",
            "Epoch 15/100\n",
            "12/12 [==============================] - 0s 4ms/step - loss: 0.2351 - accuracy: 0.9396 - val_loss: 0.2331 - val_accuracy: 0.9521\n",
            "Epoch 16/100\n",
            "12/12 [==============================] - 0s 4ms/step - loss: 0.2269 - accuracy: 0.9396 - val_loss: 0.2255 - val_accuracy: 0.9521\n",
            "Epoch 17/100\n",
            "12/12 [==============================] - 0s 4ms/step - loss: 0.2193 - accuracy: 0.9396 - val_loss: 0.2189 - val_accuracy: 0.9521\n",
            "Epoch 18/100\n",
            "12/12 [==============================] - 0s 4ms/step - loss: 0.2128 - accuracy: 0.9423 - val_loss: 0.2127 - val_accuracy: 0.9521\n",
            "Epoch 19/100\n",
            "12/12 [==============================] - 0s 4ms/step - loss: 0.2068 - accuracy: 0.9449 - val_loss: 0.2071 - val_accuracy: 0.9574\n",
            "Epoch 20/100\n",
            "12/12 [==============================] - 0s 4ms/step - loss: 0.2009 - accuracy: 0.9449 - val_loss: 0.2019 - val_accuracy: 0.9574\n",
            "Epoch 21/100\n",
            "12/12 [==============================] - 0s 5ms/step - loss: 0.1947 - accuracy: 0.9449 - val_loss: 0.1972 - val_accuracy: 0.9574\n",
            "Epoch 22/100\n",
            "12/12 [==============================] - 0s 4ms/step - loss: 0.1903 - accuracy: 0.9449 - val_loss: 0.1928 - val_accuracy: 0.9574\n",
            "Epoch 23/100\n",
            "12/12 [==============================] - 0s 4ms/step - loss: 0.1858 - accuracy: 0.9475 - val_loss: 0.1888 - val_accuracy: 0.9574\n",
            "Epoch 24/100\n",
            "12/12 [==============================] - 0s 4ms/step - loss: 0.1812 - accuracy: 0.9528 - val_loss: 0.1850 - val_accuracy: 0.9574\n",
            "Epoch 25/100\n",
            "12/12 [==============================] - 0s 4ms/step - loss: 0.1779 - accuracy: 0.9554 - val_loss: 0.1815 - val_accuracy: 0.9574\n",
            "Epoch 26/100\n",
            "12/12 [==============================] - 0s 4ms/step - loss: 0.1742 - accuracy: 0.9580 - val_loss: 0.1781 - val_accuracy: 0.9574\n",
            "Epoch 27/100\n",
            "12/12 [==============================] - 0s 4ms/step - loss: 0.1704 - accuracy: 0.9580 - val_loss: 0.1749 - val_accuracy: 0.9574\n",
            "Epoch 28/100\n",
            "12/12 [==============================] - 0s 4ms/step - loss: 0.1671 - accuracy: 0.9580 - val_loss: 0.1720 - val_accuracy: 0.9574\n",
            "Epoch 29/100\n",
            "12/12 [==============================] - 0s 4ms/step - loss: 0.1639 - accuracy: 0.9580 - val_loss: 0.1692 - val_accuracy: 0.9521\n",
            "Epoch 30/100\n",
            "12/12 [==============================] - 0s 4ms/step - loss: 0.1609 - accuracy: 0.9580 - val_loss: 0.1665 - val_accuracy: 0.9521\n",
            "Epoch 31/100\n",
            "12/12 [==============================] - 0s 4ms/step - loss: 0.1578 - accuracy: 0.9580 - val_loss: 0.1642 - val_accuracy: 0.9521\n",
            "Epoch 32/100\n",
            "12/12 [==============================] - 0s 4ms/step - loss: 0.1551 - accuracy: 0.9580 - val_loss: 0.1620 - val_accuracy: 0.9574\n",
            "Epoch 33/100\n",
            "12/12 [==============================] - 0s 4ms/step - loss: 0.1524 - accuracy: 0.9580 - val_loss: 0.1597 - val_accuracy: 0.9574\n",
            "Epoch 34/100\n",
            "12/12 [==============================] - 0s 4ms/step - loss: 0.1499 - accuracy: 0.9606 - val_loss: 0.1576 - val_accuracy: 0.9574\n",
            "Epoch 35/100\n",
            "12/12 [==============================] - 0s 4ms/step - loss: 0.1485 - accuracy: 0.9606 - val_loss: 0.1556 - val_accuracy: 0.9574\n",
            "Epoch 36/100\n",
            "12/12 [==============================] - 0s 4ms/step - loss: 0.1458 - accuracy: 0.9606 - val_loss: 0.1536 - val_accuracy: 0.9574\n",
            "Epoch 37/100\n",
            "12/12 [==============================] - 0s 5ms/step - loss: 0.1433 - accuracy: 0.9633 - val_loss: 0.1518 - val_accuracy: 0.9574\n",
            "Epoch 38/100\n",
            "12/12 [==============================] - 0s 4ms/step - loss: 0.1415 - accuracy: 0.9633 - val_loss: 0.1501 - val_accuracy: 0.9628\n",
            "Epoch 39/100\n",
            "12/12 [==============================] - 0s 4ms/step - loss: 0.1394 - accuracy: 0.9633 - val_loss: 0.1485 - val_accuracy: 0.9628\n",
            "Epoch 40/100\n",
            "12/12 [==============================] - 0s 4ms/step - loss: 0.1373 - accuracy: 0.9633 - val_loss: 0.1468 - val_accuracy: 0.9628\n",
            "Epoch 41/100\n",
            "12/12 [==============================] - 0s 4ms/step - loss: 0.1354 - accuracy: 0.9633 - val_loss: 0.1453 - val_accuracy: 0.9628\n",
            "Epoch 42/100\n",
            "12/12 [==============================] - 0s 4ms/step - loss: 0.1337 - accuracy: 0.9633 - val_loss: 0.1439 - val_accuracy: 0.9628\n",
            "Epoch 43/100\n",
            "12/12 [==============================] - 0s 4ms/step - loss: 0.1319 - accuracy: 0.9633 - val_loss: 0.1425 - val_accuracy: 0.9628\n",
            "Epoch 44/100\n",
            "12/12 [==============================] - 0s 4ms/step - loss: 0.1306 - accuracy: 0.9633 - val_loss: 0.1410 - val_accuracy: 0.9628\n",
            "Epoch 45/100\n",
            "12/12 [==============================] - 0s 4ms/step - loss: 0.1299 - accuracy: 0.9633 - val_loss: 0.1397 - val_accuracy: 0.9628\n",
            "Epoch 46/100\n",
            "12/12 [==============================] - 0s 4ms/step - loss: 0.1273 - accuracy: 0.9659 - val_loss: 0.1385 - val_accuracy: 0.9628\n",
            "Epoch 47/100\n",
            "12/12 [==============================] - 0s 5ms/step - loss: 0.1261 - accuracy: 0.9633 - val_loss: 0.1373 - val_accuracy: 0.9628\n",
            "Epoch 48/100\n",
            "12/12 [==============================] - 0s 5ms/step - loss: 0.1249 - accuracy: 0.9659 - val_loss: 0.1362 - val_accuracy: 0.9628\n",
            "Epoch 49/100\n",
            "12/12 [==============================] - 0s 4ms/step - loss: 0.1233 - accuracy: 0.9659 - val_loss: 0.1350 - val_accuracy: 0.9681\n",
            "Epoch 50/100\n",
            "12/12 [==============================] - 0s 4ms/step - loss: 0.1225 - accuracy: 0.9659 - val_loss: 0.1338 - val_accuracy: 0.9681\n",
            "Epoch 51/100\n",
            "12/12 [==============================] - 0s 4ms/step - loss: 0.1212 - accuracy: 0.9659 - val_loss: 0.1328 - val_accuracy: 0.9681\n",
            "Epoch 52/100\n",
            "12/12 [==============================] - 0s 4ms/step - loss: 0.1198 - accuracy: 0.9659 - val_loss: 0.1317 - val_accuracy: 0.9681\n",
            "Epoch 53/100\n",
            "12/12 [==============================] - 0s 4ms/step - loss: 0.1184 - accuracy: 0.9659 - val_loss: 0.1307 - val_accuracy: 0.9681\n",
            "Epoch 54/100\n",
            "12/12 [==============================] - 0s 4ms/step - loss: 0.1173 - accuracy: 0.9659 - val_loss: 0.1299 - val_accuracy: 0.9681\n",
            "Epoch 55/100\n",
            "12/12 [==============================] - 0s 4ms/step - loss: 0.1161 - accuracy: 0.9659 - val_loss: 0.1289 - val_accuracy: 0.9681\n",
            "Epoch 56/100\n",
            "12/12 [==============================] - 0s 5ms/step - loss: 0.1157 - accuracy: 0.9659 - val_loss: 0.1280 - val_accuracy: 0.9681\n",
            "Epoch 57/100\n",
            "12/12 [==============================] - 0s 4ms/step - loss: 0.1139 - accuracy: 0.9659 - val_loss: 0.1272 - val_accuracy: 0.9681\n",
            "Epoch 58/100\n",
            "12/12 [==============================] - 0s 4ms/step - loss: 0.1128 - accuracy: 0.9659 - val_loss: 0.1263 - val_accuracy: 0.9681\n",
            "Epoch 59/100\n",
            "12/12 [==============================] - 0s 4ms/step - loss: 0.1116 - accuracy: 0.9659 - val_loss: 0.1255 - val_accuracy: 0.9681\n",
            "Epoch 60/100\n",
            "12/12 [==============================] - 0s 4ms/step - loss: 0.1108 - accuracy: 0.9711 - val_loss: 0.1247 - val_accuracy: 0.9681\n",
            "Epoch 61/100\n",
            "12/12 [==============================] - 0s 4ms/step - loss: 0.1099 - accuracy: 0.9711 - val_loss: 0.1239 - val_accuracy: 0.9681\n",
            "Epoch 62/100\n",
            "12/12 [==============================] - 0s 4ms/step - loss: 0.1091 - accuracy: 0.9711 - val_loss: 0.1231 - val_accuracy: 0.9681\n",
            "Epoch 63/100\n",
            "12/12 [==============================] - 0s 4ms/step - loss: 0.1082 - accuracy: 0.9711 - val_loss: 0.1223 - val_accuracy: 0.9681\n",
            "Epoch 64/100\n",
            "12/12 [==============================] - 0s 4ms/step - loss: 0.1069 - accuracy: 0.9711 - val_loss: 0.1217 - val_accuracy: 0.9681\n",
            "Epoch 65/100\n",
            "12/12 [==============================] - 0s 5ms/step - loss: 0.1065 - accuracy: 0.9711 - val_loss: 0.1209 - val_accuracy: 0.9681\n",
            "Epoch 66/100\n",
            "12/12 [==============================] - 0s 4ms/step - loss: 0.1059 - accuracy: 0.9711 - val_loss: 0.1203 - val_accuracy: 0.9681\n",
            "Epoch 67/100\n",
            "12/12 [==============================] - 0s 4ms/step - loss: 0.1048 - accuracy: 0.9711 - val_loss: 0.1197 - val_accuracy: 0.9681\n",
            "Epoch 68/100\n",
            "12/12 [==============================] - 0s 5ms/step - loss: 0.1038 - accuracy: 0.9711 - val_loss: 0.1191 - val_accuracy: 0.9681\n",
            "Epoch 69/100\n",
            "12/12 [==============================] - 0s 4ms/step - loss: 0.1030 - accuracy: 0.9711 - val_loss: 0.1185 - val_accuracy: 0.9681\n",
            "Epoch 70/100\n",
            "12/12 [==============================] - 0s 4ms/step - loss: 0.1022 - accuracy: 0.9711 - val_loss: 0.1179 - val_accuracy: 0.9681\n",
            "Epoch 71/100\n",
            "12/12 [==============================] - 0s 4ms/step - loss: 0.1019 - accuracy: 0.9711 - val_loss: 0.1173 - val_accuracy: 0.9681\n",
            "Epoch 72/100\n",
            "12/12 [==============================] - 0s 4ms/step - loss: 0.1007 - accuracy: 0.9711 - val_loss: 0.1166 - val_accuracy: 0.9734\n",
            "Epoch 73/100\n",
            "12/12 [==============================] - 0s 4ms/step - loss: 0.1001 - accuracy: 0.9711 - val_loss: 0.1160 - val_accuracy: 0.9734\n",
            "Epoch 74/100\n",
            "12/12 [==============================] - 0s 4ms/step - loss: 0.0997 - accuracy: 0.9711 - val_loss: 0.1154 - val_accuracy: 0.9734\n",
            "Epoch 75/100\n",
            "12/12 [==============================] - 0s 5ms/step - loss: 0.0995 - accuracy: 0.9711 - val_loss: 0.1149 - val_accuracy: 0.9734\n",
            "Epoch 76/100\n",
            "12/12 [==============================] - 0s 4ms/step - loss: 0.0981 - accuracy: 0.9711 - val_loss: 0.1145 - val_accuracy: 0.9734\n",
            "Epoch 77/100\n",
            "12/12 [==============================] - 0s 4ms/step - loss: 0.0976 - accuracy: 0.9711 - val_loss: 0.1140 - val_accuracy: 0.9734\n",
            "Epoch 78/100\n",
            "12/12 [==============================] - 0s 4ms/step - loss: 0.0968 - accuracy: 0.9711 - val_loss: 0.1134 - val_accuracy: 0.9734\n",
            "Epoch 79/100\n",
            "12/12 [==============================] - 0s 4ms/step - loss: 0.0965 - accuracy: 0.9711 - val_loss: 0.1129 - val_accuracy: 0.9734\n",
            "Epoch 80/100\n",
            "12/12 [==============================] - 0s 4ms/step - loss: 0.0953 - accuracy: 0.9711 - val_loss: 0.1124 - val_accuracy: 0.9734\n",
            "Epoch 81/100\n",
            "12/12 [==============================] - 0s 4ms/step - loss: 0.0944 - accuracy: 0.9711 - val_loss: 0.1120 - val_accuracy: 0.9734\n",
            "Epoch 82/100\n",
            "12/12 [==============================] - 0s 4ms/step - loss: 0.0941 - accuracy: 0.9711 - val_loss: 0.1115 - val_accuracy: 0.9734\n",
            "Epoch 83/100\n",
            "12/12 [==============================] - 0s 4ms/step - loss: 0.0934 - accuracy: 0.9711 - val_loss: 0.1111 - val_accuracy: 0.9734\n",
            "Epoch 84/100\n",
            "12/12 [==============================] - 0s 4ms/step - loss: 0.0932 - accuracy: 0.9711 - val_loss: 0.1107 - val_accuracy: 0.9734\n",
            "Epoch 85/100\n",
            "12/12 [==============================] - 0s 4ms/step - loss: 0.0926 - accuracy: 0.9711 - val_loss: 0.1102 - val_accuracy: 0.9734\n",
            "Epoch 86/100\n",
            "12/12 [==============================] - 0s 4ms/step - loss: 0.0927 - accuracy: 0.9711 - val_loss: 0.1097 - val_accuracy: 0.9734\n",
            "Epoch 87/100\n",
            "12/12 [==============================] - 0s 4ms/step - loss: 0.0914 - accuracy: 0.9711 - val_loss: 0.1093 - val_accuracy: 0.9734\n",
            "Epoch 88/100\n",
            "12/12 [==============================] - 0s 4ms/step - loss: 0.0908 - accuracy: 0.9711 - val_loss: 0.1090 - val_accuracy: 0.9734\n",
            "Epoch 89/100\n",
            "12/12 [==============================] - 0s 4ms/step - loss: 0.0908 - accuracy: 0.9711 - val_loss: 0.1086 - val_accuracy: 0.9734\n",
            "Epoch 90/100\n",
            "12/12 [==============================] - 0s 4ms/step - loss: 0.0902 - accuracy: 0.9711 - val_loss: 0.1081 - val_accuracy: 0.9734\n",
            "Epoch 91/100\n",
            "12/12 [==============================] - 0s 4ms/step - loss: 0.0894 - accuracy: 0.9711 - val_loss: 0.1077 - val_accuracy: 0.9734\n",
            "Epoch 92/100\n",
            "12/12 [==============================] - 0s 4ms/step - loss: 0.0893 - accuracy: 0.9711 - val_loss: 0.1075 - val_accuracy: 0.9734\n",
            "Epoch 93/100\n",
            "12/12 [==============================] - 0s 5ms/step - loss: 0.0880 - accuracy: 0.9711 - val_loss: 0.1071 - val_accuracy: 0.9734\n",
            "Epoch 94/100\n",
            "12/12 [==============================] - 0s 4ms/step - loss: 0.0880 - accuracy: 0.9711 - val_loss: 0.1067 - val_accuracy: 0.9734\n",
            "Epoch 95/100\n",
            "12/12 [==============================] - 0s 4ms/step - loss: 0.0873 - accuracy: 0.9711 - val_loss: 0.1063 - val_accuracy: 0.9734\n",
            "Epoch 96/100\n",
            "12/12 [==============================] - 0s 4ms/step - loss: 0.0868 - accuracy: 0.9738 - val_loss: 0.1061 - val_accuracy: 0.9734\n",
            "Epoch 97/100\n",
            "12/12 [==============================] - 0s 4ms/step - loss: 0.0866 - accuracy: 0.9738 - val_loss: 0.1057 - val_accuracy: 0.9734\n",
            "Epoch 98/100\n",
            "12/12 [==============================] - 0s 4ms/step - loss: 0.0859 - accuracy: 0.9738 - val_loss: 0.1054 - val_accuracy: 0.9734\n",
            "Epoch 99/100\n",
            "12/12 [==============================] - 0s 4ms/step - loss: 0.0860 - accuracy: 0.9738 - val_loss: 0.1050 - val_accuracy: 0.9734\n",
            "Epoch 100/100\n",
            "12/12 [==============================] - 0s 4ms/step - loss: 0.0853 - accuracy: 0.9738 - val_loss: 0.1047 - val_accuracy: 0.9734\n",
            "12/12 [==============================] - 0s 1ms/step - loss: 0.0849 - accuracy: 0.9738\n",
            "Train Score [0.08487854152917862, 0.9737532734870911]\n",
            "6/6 [==============================] - 0s 1ms/step - loss: 0.1047 - accuracy: 0.9734\n",
            "Test score: [0.1046600416302681, 0.9734042286872864]\n"
          ],
          "name": "stdout"
        }
      ]
    },
    {
      "cell_type": "code",
      "metadata": {
        "id": "kcGx8SlCOHFq",
        "colab_type": "code",
        "colab": {
          "base_uri": "https://localhost:8080/",
          "height": 283
        },
        "outputId": "ac9d36c7-bc4a-4a74-cb5d-b17f734335dc"
      },
      "source": [
        "import matplotlib.pyplot as plt\n",
        "plt.plot (r.history['loss'], label='loss')\n",
        "plt.plot(r.history['val_loss'], label='val_loss')\n",
        "plt.legend()"
      ],
      "execution_count": 18,
      "outputs": [
        {
          "output_type": "execute_result",
          "data": {
            "text/plain": [
              "<matplotlib.legend.Legend at 0x7f04d62da198>"
            ]
          },
          "metadata": {
            "tags": []
          },
          "execution_count": 18
        },
        {
          "output_type": "display_data",
          "data": {
            "image/png": "[encoded data removed]",
            "text/plain": [
              "<Figure size 432x288 with 1 Axes>"
            ]
          },
          "metadata": {
            "tags": [],
            "needs_background": "light"
          }
        }
      ]
    },
    {
      "cell_type": "code",
      "metadata": {
        "id": "c3yCYVDSSZ6I",
        "colab_type": "code",
        "colab": {
          "base_uri": "https://localhost:8080/",
          "height": 283
        },
        "outputId": "c16d6a59-bf1c-4304-ae9a-6e3f8fb1b362"
      },
      "source": [
        "# Plot the accuracy too\n",
        "plt.plot(r.history['accuracy'], label='acc')\n",
        "plt.plot(r.history['val_accuracy'], label='val_acc')\n",
        "plt.legend()"
      ],
      "execution_count": 19,
      "outputs": [
        {
          "output_type": "execute_result",
          "data": {
            "text/plain": [
              "<matplotlib.legend.Legend at 0x7f04d63f2e48>"
            ]
          },
          "metadata": {
            "tags": []
          },
          "execution_count": 19
        },
        {
          "output_type": "display_data",
          "data": {
            "image/png": "[encoded data removed]",
            "text/plain": [
              "<Figure size 432x288 with 1 Axes>"
            ]
          },
          "metadata": {
            "tags": [],
            "needs_background": "light"
          }
        }
      ]
    },
    {
      "cell_type": "code",
      "metadata": {
        "id": "dsS77SQLSmZc",
        "colab_type": "code",
        "colab": {
          "base_uri": "https://localhost:8080/",
          "height": 1000
        },
        "outputId": "6b9d73ec-83ac-49d3-f257-0eb494cacf89"
      },
      "source": [
        "# Make predictions\n",
        "P = model.predict(X_test)\n",
        "print(P) # they are outputs of the sigmoid, interpreted as probabilities p(y = 1 | x)"
      ],
      "execution_count": 20,
      "outputs": [
        {
          "output_type": "stream",
          "text": [
            "[[9.94416595e-01]\n",
            " [9.05135393e-01]\n",
            " [5.77944815e-02]\n",
            " [2.04383433e-02]\n",
            " [9.99513388e-01]\n",
            " [8.18835497e-02]\n",
            " [9.73624229e-01]\n",
            " [6.97175622e-01]\n",
            " [9.88301754e-01]\n",
            " [9.91659284e-01]\n",
            " [9.98280823e-01]\n",
            " [9.99987483e-01]\n",
            " [9.98986959e-01]\n",
            " [9.87148464e-01]\n",
            " [7.38427579e-01]\n",
            " [9.11810517e-01]\n",
            " [9.98831153e-01]\n",
            " [5.83155959e-08]\n",
            " [1.54554844e-04]\n",
            " [6.64564252e-01]\n",
            " [9.64629412e-01]\n",
            " [3.81411046e-01]\n",
            " [9.50090647e-01]\n",
            " [9.31736469e-01]\n",
            " [1.07968152e-02]\n",
            " [9.99171674e-01]\n",
            " [9.98587012e-01]\n",
            " [9.95321631e-01]\n",
            " [9.99895871e-01]\n",
            " [9.99003053e-01]\n",
            " [3.51184607e-03]\n",
            " [1.39044317e-07]\n",
            " [7.21273422e-01]\n",
            " [9.11148667e-01]\n",
            " [9.71697211e-01]\n",
            " [4.71323729e-04]\n",
            " [9.84582603e-02]\n",
            " [1.23041868e-03]\n",
            " [9.98015642e-01]\n",
            " [7.92038045e-05]\n",
            " [2.75500651e-12]\n",
            " [9.97597575e-01]\n",
            " [7.31233597e-01]\n",
            " [9.59724069e-01]\n",
            " [9.53982413e-01]\n",
            " [9.11283314e-01]\n",
            " [9.80135441e-01]\n",
            " [9.95597839e-01]\n",
            " [1.30791386e-06]\n",
            " [9.94422078e-01]\n",
            " [7.98032045e-01]\n",
            " [5.49641845e-06]\n",
            " [4.30494547e-04]\n",
            " [9.82803822e-01]\n",
            " [8.67248595e-01]\n",
            " [9.96168315e-01]\n",
            " [9.98750389e-01]\n",
            " [2.98126340e-01]\n",
            " [9.63676870e-01]\n",
            " [9.98010874e-01]\n",
            " [6.32908940e-03]\n",
            " [9.90615666e-01]\n",
            " [9.71449375e-01]\n",
            " [1.57601607e-05]\n",
            " [9.87826467e-01]\n",
            " [2.47958302e-03]\n",
            " [9.97750759e-01]\n",
            " [9.98841941e-01]\n",
            " [1.37053132e-02]\n",
            " [9.91132200e-01]\n",
            " [9.98513699e-01]\n",
            " [6.94395602e-02]\n",
            " [9.89389062e-01]\n",
            " [3.53786349e-03]\n",
            " [9.24430251e-01]\n",
            " [1.00411922e-01]\n",
            " [7.72790909e-02]\n",
            " [9.77558255e-01]\n",
            " [2.39208639e-02]\n",
            " [9.77263510e-01]\n",
            " [9.88881588e-01]\n",
            " [8.95472050e-01]\n",
            " [2.00759764e-09]\n",
            " [9.88387883e-01]\n",
            " [7.88860083e-01]\n",
            " [2.89961696e-03]\n",
            " [9.55792308e-01]\n",
            " [9.76538301e-01]\n",
            " [2.02780217e-01]\n",
            " [9.23052311e-01]\n",
            " [9.64849949e-01]\n",
            " [2.48599768e-01]\n",
            " [9.99893308e-01]\n",
            " [8.92254889e-01]\n",
            " [9.91182446e-01]\n",
            " [5.24213135e-01]\n",
            " [9.59726691e-01]\n",
            " [9.19822693e-01]\n",
            " [1.09198987e-02]\n",
            " [9.96342659e-01]\n",
            " [9.53469753e-01]\n",
            " [9.98061657e-01]\n",
            " [9.78141546e-01]\n",
            " [9.91079330e-01]\n",
            " [9.55745101e-01]\n",
            " [9.99431133e-01]\n",
            " [9.99448955e-01]\n",
            " [9.25832272e-01]\n",
            " [9.97754931e-01]\n",
            " [9.94914293e-01]\n",
            " [9.94700670e-01]\n",
            " [9.79333282e-01]\n",
            " [7.69792557e-01]\n",
            " [9.23323333e-01]\n",
            " [7.80579150e-01]\n",
            " [5.90287685e-01]\n",
            " [9.82230484e-01]\n",
            " [9.87210035e-01]\n",
            " [5.05042374e-02]\n",
            " [9.36535001e-01]\n",
            " [9.23228960e-09]\n",
            " [5.36174953e-01]\n",
            " [9.92944121e-01]\n",
            " [2.67580152e-03]\n",
            " [1.26805153e-05]\n",
            " [2.51559068e-05]\n",
            " [9.96724427e-01]\n",
            " [9.71653104e-01]\n",
            " [1.62065029e-04]\n",
            " [2.43116319e-02]\n",
            " [9.88599062e-01]\n",
            " [9.89194274e-01]\n",
            " [4.87502515e-02]\n",
            " [2.31504440e-04]\n",
            " [8.23846817e-01]\n",
            " [6.59943581e-01]\n",
            " [9.96969104e-01]\n",
            " [9.91415620e-01]\n",
            " [9.97348368e-01]\n",
            " [1.91331208e-02]\n",
            " [9.98483896e-01]\n",
            " [9.62046862e-01]\n",
            " [9.88237917e-01]\n",
            " [2.21064687e-03]\n",
            " [9.59373415e-01]\n",
            " [1.29085779e-03]\n",
            " [9.78815317e-01]\n",
            " [8.23605120e-01]\n",
            " [4.26679850e-04]\n",
            " [9.99913454e-01]\n",
            " [1.46660805e-02]\n",
            " [1.15740597e-02]\n",
            " [4.52472746e-01]\n",
            " [4.33210135e-02]\n",
            " [7.45716751e-01]\n",
            " [9.92072880e-01]\n",
            " [9.98895586e-01]\n",
            " [2.14652270e-01]\n",
            " [2.35915184e-04]\n",
            " [9.84759212e-01]\n",
            " [2.89558443e-07]\n",
            " [8.86609316e-01]\n",
            " [2.29030848e-04]\n",
            " [5.33106029e-02]\n",
            " [9.63931203e-01]\n",
            " [3.90827656e-04]\n",
            " [1.05379768e-04]\n",
            " [8.98667276e-02]\n",
            " [2.24977732e-04]\n",
            " [2.37050653e-02]\n",
            " [9.93738890e-01]\n",
            " [9.35419679e-01]\n",
            " [9.52556849e-01]\n",
            " [7.17606306e-01]\n",
            " [7.99775004e-01]\n",
            " [4.31060165e-01]\n",
            " [9.95015860e-01]\n",
            " [9.98725891e-01]\n",
            " [8.93049002e-01]\n",
            " [9.94846523e-01]\n",
            " [9.99919653e-01]\n",
            " [9.84741509e-01]\n",
            " [9.99028683e-01]\n",
            " [2.10912949e-05]\n",
            " [9.70194221e-01]\n",
            " [9.88904297e-01]\n",
            " [9.54012275e-01]\n",
            " [9.99569595e-01]]\n"
          ],
          "name": "stdout"
        }
      ]
    },
    {
      "cell_type": "code",
      "metadata": {
        "id": "aEItoZSZS323",
        "colab_type": "code",
        "colab": {
          "base_uri": "https://localhost:8080/",
          "height": 159
        },
        "outputId": "183f05ea-cccf-4285-ac73-5b13e76df386"
      },
      "source": [
        "# Round to get the actual predictions\n",
        "# Note: has to be flattened since the targets are size (N,) while the predictions are size (N,1)\n",
        "import numpy as np\n",
        "P = np.round(P).flatten()\n",
        "print(P)"
      ],
      "execution_count": 21,
      "outputs": [
        {
          "output_type": "stream",
          "text": [
            "[1. 1. 0. 0. 1. 0. 1. 1. 1. 1. 1. 1. 1. 1. 1. 1. 1. 0. 0. 1. 1. 0. 1. 1.\n",
            " 0. 1. 1. 1. 1. 1. 0. 0. 1. 1. 1. 0. 0. 0. 1. 0. 0. 1. 1. 1. 1. 1. 1. 1.\n",
            " 0. 1. 1. 0. 0. 1. 1. 1. 1. 0. 1. 1. 0. 1. 1. 0. 1. 0. 1. 1. 0. 1. 1. 0.\n",
            " 1. 0. 1. 0. 0. 1. 0. 1. 1. 1. 0. 1. 1. 0. 1. 1. 0. 1. 1. 0. 1. 1. 1. 1.\n",
            " 1. 1. 0. 1. 1. 1. 1. 1. 1. 1. 1. 1. 1. 1. 1. 1. 1. 1. 1. 1. 1. 1. 0. 1.\n",
            " 0. 1. 1. 0. 0. 0. 1. 1. 0. 0. 1. 1. 0. 0. 1. 1. 1. 1. 1. 0. 1. 1. 1. 0.\n",
            " 1. 0. 1. 1. 0. 1. 0. 0. 0. 0. 1. 1. 1. 0. 0. 1. 0. 1. 0. 0. 1. 0. 0. 0.\n",
            " 0. 0. 1. 1. 1. 1. 1. 0. 1. 1. 1. 1. 1. 1. 1. 0. 1. 1. 1. 1.]\n"
          ],
          "name": "stdout"
        }
      ]
    },
    {
      "cell_type": "code",
      "metadata": {
        "id": "UK226FTAS_Bp",
        "colab_type": "code",
        "colab": {
          "base_uri": "https://localhost:8080/",
          "height": 70
        },
        "outputId": "3b8e43fb-09d0-4e29-afed-d318d74f4176"
      },
      "source": [
        "# Calculate the accuracy, compare it to evaluate() output\n",
        "print(\"Manually calculated accuracy:\", np.mean(P == y_test))\n",
        "print(\"Evaluate output:\", model.evaluate(X_test, y_test))"
      ],
      "execution_count": 22,
      "outputs": [
        {
          "output_type": "stream",
          "text": [
            "Manually calculated accuracy: 0.973404255319149\n",
            "6/6 [==============================] - 0s 2ms/step - loss: 0.1047 - accuracy: 0.9734\n",
            "Evaluate output: [0.1046600416302681, 0.9734042286872864]\n"
          ],
          "name": "stdout"
        }
      ]
    },
    {
      "cell_type": "code",
      "metadata": {
        "id": "54RsyUGxThco",
        "colab_type": "code",
        "colab": {}
      },
      "source": [
        "# Let's now save our model to a file\n",
        "model.save('linearclassifier.h5')"
      ],
      "execution_count": 0,
      "outputs": []
    },
    {
      "cell_type": "code",
      "metadata": {
        "id": "-9OSMtJZTnCq",
        "colab_type": "code",
        "colab": {
          "base_uri": "https://localhost:8080/",
          "height": 70
        },
        "outputId": "f667abb8-2fc7-4b07-d8e4-660cc170ba81"
      },
      "source": [
        "!ls -lh "
      ],
      "execution_count": 24,
      "outputs": [
        {
          "output_type": "stream",
          "text": [
            "total 24K\n",
            "-rw-r--r-- 1 root root  19K May  2 12:13 linearclassifier.h5\n",
            "drwxr-xr-x 1 root root 4.0K Apr  3 16:24 sample_data\n"
          ],
          "name": "stdout"
        }
      ]
    },
    {
      "cell_type": "code",
      "metadata": {
        "id": "QjgZc35xTw3o",
        "colab_type": "code",
        "colab": {
          "base_uri": "https://localhost:8080/",
          "height": 70
        },
        "outputId": "f44f43c4-b588-4b68-9af9-820e8abf6f0a"
      },
      "source": [
        "model = tf.keras.models.load_model('linearclassifier.h5')\n",
        "print(model.layers)\n",
        "model.evaluate(X_test, y_test)"
      ],
      "execution_count": 25,
      "outputs": [
        {
          "output_type": "stream",
          "text": [
            "[<tensorflow.python.keras.layers.core.Dense object at 0x7f04d627e668>]\n",
            "6/6 [==============================] - 0s 1ms/step - loss: 0.1047 - accuracy: 0.9734\n"
          ],
          "name": "stdout"
        },
        {
          "output_type": "execute_result",
          "data": {
            "text/plain": [
              "[0.1046600416302681, 0.9734042286872864]"
            ]
          },
          "metadata": {
            "tags": []
          },
          "execution_count": 25
        }
      ]
    },
    {
      "cell_type": "code",
      "metadata": {
        "id": "nDGi_2f3UA0Z",
        "colab_type": "code",
        "colab": {}
      },
      "source": [
        "from google.colab import files\n",
        "files.download('linearclassifier.h5')"
      ],
      "execution_count": 0,
      "outputs": []
    }
  ]
}